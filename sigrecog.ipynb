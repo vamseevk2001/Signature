{
 "cells": [
  {
   "cell_type": "code",
   "execution_count": 2,
   "metadata": {},
   "outputs": [],
   "source": [
    "import cv2\n",
    "import os\n",
    "import numpy as np\n",
    "import network\n",
    "import preprocessor"
   ]
  },
  {
   "cell_type": "code",
   "execution_count": 3,
   "metadata": {},
   "outputs": [],
   "source": [
    "def main():\n",
    "    print('OpenCV version {} '.format(cv2.__version__))\n",
    "    path='E:/7th Sem/Biometrics/Project/signature/data'\n",
    "    current_dir = os.path.dirname(path)\n",
    "    author = '029'\n",
    "    training_folder = os.path.join(current_dir, 'data/training/', author)\n",
    "    test_folder = os.path.join(current_dir, 'data/test/', author)\n",
    "\n",
    "    training_data = []\n",
    "    for filename in os.listdir(training_folder):\n",
    "        img = cv2.imread(os.path.join(training_folder, filename), 0)\n",
    "        if img is not None:\n",
    "            data = np.array(preprocessor.prepare(img))\n",
    "            data = np.reshape(data, (901, 1))\n",
    "            result = [[0], [1]] if \"genuine\" in filename else [[1], [0]]\n",
    "            result = np.array(result)\n",
    "            result = np.reshape(result, (2, 1))\n",
    "            training_data.append((data, result))\n",
    "\n",
    "    test_data = []\n",
    "    for filename in os.listdir(test_folder):\n",
    "        img = cv2.imread(os.path.join(test_folder, filename), 0)\n",
    "        if img is not None:\n",
    "            data = np.array(preprocessor.prepare(img))\n",
    "            data = np.reshape(data, (901, 1))\n",
    "            result = 1 if \"genuine\" in filename else 0\n",
    "            test_data.append((data, result))\n",
    "\n",
    "    net = network.NeuralNetwork([901, 500, 500, 2])\n",
    "    net.sgd(training_data, 25, 50, 0.01, test_data)"
   ]
  },
  {
   "cell_type": "code",
   "execution_count": 4,
   "metadata": {},
   "outputs": [
    {
     "name": "stdout",
     "output_type": "stream",
     "text": [
      "OpenCV version 4.6.0 \n"
     ]
    },
    {
     "name": "stderr",
     "output_type": "stream",
     "text": [
      "E:\\7th Sem\\Biometrics\\Project\\signature\\network.py:106: RuntimeWarning: overflow encountered in exp\n",
      "  return 1.0 / (1.0 + np.exp(-z))\n"
     ]
    },
    {
     "name": "stdout",
     "output_type": "stream",
     "text": [
      "Epoch 0: 11 / 24\n",
      "Epoch 1: 11 / 24\n",
      "Epoch 2: 11 / 24\n",
      "Epoch 3: 11 / 24\n",
      "Epoch 4: 11 / 24\n",
      "Epoch 5: 11 / 24\n",
      "Epoch 6: 11 / 24\n",
      "Epoch 7: 11 / 24\n",
      "Epoch 8: 11 / 24\n",
      "Epoch 9: 11 / 24\n",
      "Epoch 10: 11 / 24\n",
      "Epoch 11: 11 / 24\n",
      "Epoch 12: 11 / 24\n",
      "Epoch 13: 11 / 24\n",
      "Epoch 14: 11 / 24\n",
      "Epoch 15: 11 / 24\n",
      "Epoch 16: 11 / 24\n",
      "Epoch 17: 11 / 24\n",
      "Epoch 18: 11 / 24\n",
      "Epoch 19: 11 / 24\n",
      "Epoch 20: 11 / 24\n",
      "Epoch 21: 11 / 24\n",
      "Epoch 22: 11 / 24\n",
      "Epoch 23: 11 / 24\n",
      "Epoch 24: 11 / 24\n"
     ]
    }
   ],
   "source": [
    "if __name__ == '__main__':\n",
    "    main()"
   ]
  }
 ],
 "metadata": {
  "kernelspec": {
   "display_name": "Python 3 (ipykernel)",
   "language": "python",
   "name": "python3"
  },
  "language_info": {
   "codemirror_mode": {
    "name": "ipython",
    "version": 3
   },
   "file_extension": ".py",
   "mimetype": "text/x-python",
   "name": "python",
   "nbconvert_exporter": "python",
   "pygments_lexer": "ipython3",
   "version": "3.10.2"
  },
  "vscode": {
   "interpreter": {
    "hash": "5e1b8ce45fe6aa63b4dcb7216690f8adbb6a01965b8fe1fc5483cd9f8664c227"
   }
  }
 },
 "nbformat": 4,
 "nbformat_minor": 2
}
