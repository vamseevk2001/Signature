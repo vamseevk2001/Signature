{
 "cells": [
  {
   "cell_type": "code",
   "execution_count": 3,
   "metadata": {},
   "outputs": [],
   "source": [
    "import cv2\n",
    "import os\n",
    "import tensorflow.compat.v1 as tf\n",
    "tf.compat.v1.disable_eager_execution()\n",
    "tf.disable_v2_behavior()\n",
    "import preprocessor"
   ]
  },
  {
   "cell_type": "code",
   "execution_count": 4,
   "metadata": {},
   "outputs": [],
   "source": [
    "def main():\n",
    "    print('OpenCV version {} '.format(cv2.__version__))\n",
    "    path='E:/7th Sem/Biometrics/Project/signature/data'\n",
    "    current_dir = os.path.dirname(path)\n",
    "\n",
    "    author = '029'\n",
    "    training_folder = os.path.join(current_dir, 'data/training/', author)\n",
    "    test_folder = os.path.join(current_dir, 'data/test/', author)\n",
    "\n",
    "    training_data = []\n",
    "    training_labels = []\n",
    "    for filename in os.listdir(training_folder):\n",
    "        img = cv2.imread(os.path.join(training_folder, filename), 0)\n",
    "        if img is not None:\n",
    "            data = preprocessor.prepare(img)\n",
    "            training_data.append(data)\n",
    "            training_labels.append([0, 1] if \"genuine\" in filename else [1, 0])\n",
    "\n",
    "    test_data = []\n",
    "    test_labels = []\n",
    "    for filename in os.listdir(test_folder):\n",
    "        img = cv2.imread(os.path.join(test_folder, filename), 0)\n",
    "        if img is not None:\n",
    "            data = preprocessor.prepare(img)\n",
    "            test_data.append(data)\n",
    "            test_labels.append([0, 1] if \"genuine\" in filename else [1, 0])\n",
    "\n",
    "    sgd(training_data, training_labels, test_data, test_labels)\n",
    "\n",
    "\n",
    "# Softmax Regression Model\n",
    "def regression(x):\n",
    "    W = tf.Variable(tf.zeros([901, 2]), name=\"W\")\n",
    "    b = tf.Variable(tf.zeros([2]), name=\"b\")\n",
    "    y = tf.nn.softmax(tf.matmul(x, W) + b)\n",
    "    return y, [W, b]\n",
    "\n",
    "\n",
    "def sgd(training_data, training_labels, test_data, test_labels):\n",
    "    # model\n",
    "    with tf.compat.v1.variable_scope(\"regression\"):\n",
    "        x = tf.compat.v1.placeholder(tf.float32, [None, 901])\n",
    "        y, variables = regression(x)\n",
    "\n",
    "    # train\n",
    "    y_ = tf.compat.v1.placeholder(\"float\", [None, 2])\n",
    "    cross_entropy = -tf.reduce_sum(y_ * tf.math.log(y))\n",
    "    train_step = tf.train.GradientDescentOptimizer(0.01).minimize(cross_entropy)\n",
    "    correct_prediction = tf.equal(tf.argmax(y, 1), tf.argmax(y_, 1))\n",
    "    accuracy = tf.reduce_mean(tf.cast(correct_prediction, tf.float32))\n",
    "\n",
    "    with tf.Session() as sess:\n",
    "        sess.run(tf.global_variables_initializer())\n",
    "        sess.run(train_step, feed_dict={x: training_data, y_: training_labels})\n",
    "        print(sess.run(accuracy, feed_dict={x: test_data, y_: test_labels}))\n"
   ]
  },
  {
   "cell_type": "code",
   "execution_count": 5,
   "metadata": {},
   "outputs": [
    {
     "name": "stdout",
     "output_type": "stream",
     "text": [
      "OpenCV version 4.6.0 \n",
      "0.5\n"
     ]
    }
   ],
   "source": [
    "if __name__ == '__main__':\n",
    "    main()"
   ]
  },
  {
   "cell_type": "code",
   "execution_count": 6,
   "metadata": {},
   "outputs": [
    {
     "name": "stdout",
     "output_type": "stream",
     "text": [
      "24 photos of 021\n",
      "24 photos of 024\n",
      "23 photos of 029\n",
      "71\n",
      "71\n"
     ]
    }
   ],
   "source": [
    "import numpy as np\n",
    "TRAIN_DIR=\"E:/7th Sem/Biometrics/Project/signature/data/training/\"\n",
    "def get_images(fish):\n",
    " \"\"\"Load files from train folder\"\"\"\n",
    " fish_dir = TRAIN_DIR+'{}'.format(fish)\n",
    " images = [fish+'/'+im for im in os.listdir(fish_dir)]\n",
    " return images\n",
    "SIGNATURE_CLASSES = ['021','024','029']\n",
    "files = []\n",
    "y_all = []\n",
    "for fish in SIGNATURE_CLASSES:\n",
    " fish_files = get_images(fish)\n",
    " files.extend(fish_files)\n",
    " y_fish = np.tile(fish, len(fish_files))\n",
    " y_all.extend(y_fish)\n",
    " print(\"{0} photos of {1}\".format(len(fish_files), fish))\n",
    "y_all = np.array(y_all)\n",
    "print(len(files))\n",
    "print(len(y_all))"
   ]
  },
  {
   "cell_type": "code",
   "execution_count": null,
   "metadata": {},
   "outputs": [],
   "source": []
  }
 ],
 "metadata": {
  "kernelspec": {
   "display_name": "Python 3 (ipykernel)",
   "language": "python",
   "name": "python3"
  },
  "language_info": {
   "codemirror_mode": {
    "name": "ipython",
    "version": 3
   },
   "file_extension": ".py",
   "mimetype": "text/x-python",
   "name": "python",
   "nbconvert_exporter": "python",
   "pygments_lexer": "ipython3",
   "version": "3.10.2"
  },
  "vscode": {
   "interpreter": {
    "hash": "5e1b8ce45fe6aa63b4dcb7216690f8adbb6a01965b8fe1fc5483cd9f8664c227"
   }
  }
 },
 "nbformat": 4,
 "nbformat_minor": 2
}
